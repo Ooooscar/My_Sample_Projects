{
 "cells": [
  {
   "cell_type": "code",
   "execution_count": 5,
   "id": "5825bd35",
   "metadata": {},
   "outputs": [
    {
     "name": "stdout",
     "output_type": "stream",
     "text": [
      "Norm des Residuums: ρ = 237.901378\n",
      "Norm des Residuums: ρ̃ = 448.24"
     ]
    }
   ],
   "source": [
    "using LinearAlgebra\n",
    "using Random\n",
    "using Plots\n",
    "using Printf"
   ]
  },
  {
   "cell_type": "code",
   "execution_count": 6,
   "id": "eff3c27f",
   "metadata": {},
   "outputs": [
    {
     "name": "stdout",
     "output_type": "stream",
     "text": [
      "Norm des Residuums: ρ = 237.901378\n",
      "Norm des Residuums: ρ̃ = 448.24"
     ]
    }
   ],
   "source": [
    "Random.seed!(42)\n",
    "\n",
    "t = -4:1/16:6\n",
    "m = length(t)\n",
    "\n",
    "deg = 3\n",
    "n = deg+1\n",
    "f₀(x) = x.^3                 # ursprüngliche Funktion\n",
    "\n",
    "A = t.^((0:deg)')            # Vandermonde-Matrix\n",
    "b = f₀(t) + 20*randn(m)      # gestörte \"Messergebnisse\"\n",
    "scatter(t, b, m=(3,0.5,:black,stroke(0)),\n",
    "        lab=\"gestörte Ergebnisse\", legend=:topleft)\n",
    "\n",
    "# Lösung des Ausgleichsproblems mit Orthogonalisierung der Designmatrix\n",
    "\n",
    "R = qr([A b]).R\n",
    "k = R[1:n,1:n]\\R[1:n,n+1]\n",
    "ρ = R[n+1,n+1]\n",
    "@printf \"Norm des Residuums: ρ = %f\" abs(ρ)\n",
    "@printf \"\\n\"\n",
    "\n",
    "R̃ = qr([ones(Int,m) t b]).R\n",
    "k̃ = R̃[1:2,1:2]\\R̃[1:2,3]\n",
    "ρ̃ = R̃[3,3]\n",
    "@printf \"Norm des Residuums: ρ̃ = %.2f\" abs(ρ̃)\n",
    "\n",
    "f(x) = (k' * x'.^(0:deg))'\n",
    "f̃(x) = k̃[1] .+ k̃[2]*x\n",
    "x = -4:(1/64):6\n",
    "plot!(x, f₀(x), color=:black, width=2, lab=\"ursprüngliche Fkt.\")\n",
    "plot!(x, f̃(x), color=:orange, width=2, lab=\"Regressionsgerade\")\n",
    "plot!(x, f(x), color=:orangered, width=2, lab=\"Regressionspolynom\")\n",
    "\n",
    "savefig(\"regression.png\")\n",
    "plot!()"
   ]
  }
 ],
 "metadata": {
  "kernelspec": {
   "display_name": "Julia 1.7.2",
   "language": "julia",
   "name": "julia-1.7"
  },
  "language_info": {
   "file_extension": ".jl",
   "mimetype": "application/julia",
   "name": "julia",
   "version": "1.7.2"
  }
 },
 "nbformat": 4,
 "nbformat_minor": 5
}
